{
 "cells": [
  {
   "cell_type": "code",
   "execution_count": 25,
   "metadata": {},
   "outputs": [],
   "source": [
    "import pandas as pd\n",
    "import os\n",
    "import tensorflow as tf\n",
    "from bokeh.plotting import figure, show\n",
    "from tensorflow import keras\n",
    "from tensorflow.keras import layers\n",
    "from tensorflow.keras.preprocessing.image import ImageDataGenerator\n",
    "import matplotlib.pyplot as plt\n",
    "import numpy as np\n",
    "import glob"
   ]
  },
  {
   "cell_type": "code",
   "execution_count": 5,
   "metadata": {},
   "outputs": [],
   "source": [
    "datagen = ImageDataGenerator(\n",
    "    rescale = 1./255\n",
    ")"
   ]
  },
  {
   "cell_type": "code",
   "execution_count": 4,
   "metadata": {},
   "outputs": [
    {
     "data": {
      "text/html": [
       "<div>\n",
       "<style scoped>\n",
       "    .dataframe tbody tr th:only-of-type {\n",
       "        vertical-align: middle;\n",
       "    }\n",
       "\n",
       "    .dataframe tbody tr th {\n",
       "        vertical-align: top;\n",
       "    }\n",
       "\n",
       "    .dataframe thead th {\n",
       "        text-align: right;\n",
       "    }\n",
       "</style>\n",
       "<table border=\"1\" class=\"dataframe\">\n",
       "  <thead>\n",
       "    <tr style=\"text-align: right;\">\n",
       "      <th></th>\n",
       "      <th>File_Names</th>\n",
       "    </tr>\n",
       "  </thead>\n",
       "  <tbody>\n",
       "    <tr>\n",
       "      <th>0</th>\n",
       "      <td>glioma_tumor</td>\n",
       "    </tr>\n",
       "    <tr>\n",
       "      <th>1</th>\n",
       "      <td>meningioma_tumor</td>\n",
       "    </tr>\n",
       "    <tr>\n",
       "      <th>2</th>\n",
       "      <td>normal</td>\n",
       "    </tr>\n",
       "    <tr>\n",
       "      <th>3</th>\n",
       "      <td>pituitary_tumor</td>\n",
       "    </tr>\n",
       "  </tbody>\n",
       "</table>\n",
       "</div>"
      ],
      "text/plain": [
       "         File_Names\n",
       "0      glioma_tumor\n",
       "1  meningioma_tumor\n",
       "2            normal\n",
       "3   pituitary_tumor"
      ]
     },
     "execution_count": 4,
     "metadata": {},
     "output_type": "execute_result"
    }
   ],
   "source": [
    "data_images = pd.DataFrame(os.listdir(\"../../datasets/brain_tumors/\"), columns=[\"File_Names\"])\n",
    "data_images"
   ]
  },
  {
   "cell_type": "code",
   "execution_count": 3,
   "metadata": {},
   "outputs": [],
   "source": [
    "# train_generator = datagen.flow_from_directory(\n",
    "#     \"../../datasets/brain_tumors/\",\n",
    "#     target_size=(256, 256),\n",
    "#     batch_size=32,\n",
    "#     # validation_split=0.2,\n",
    "#     class_mode=\"categorical\",\n",
    "#     subset=\"training\"\n",
    "# )\n",
    "# validation_generator = datagen.flow_from_directory(\n",
    "#     \"../../datasets/brain_tumors/\",\n",
    "#     target_size=(256, 256),\n",
    "#     batch_size=32,\n",
    "#     # validation_split=0.2,\n",
    "#     class_mode=\"categorical\",\n",
    "#     subset=\"validation\"\n",
    "# )"
   ]
  },
  {
   "cell_type": "code",
   "execution_count": 6,
   "metadata": {},
   "outputs": [
    {
     "name": "stdout",
     "output_type": "stream",
     "text": [
      "Found 3096 files belonging to 4 classes.\n",
      "Using 2477 files for training.\n",
      "Found 3096 files belonging to 4 classes.\n",
      "Using 619 files for validation.\n"
     ]
    }
   ],
   "source": [
    "train = tf.keras.preprocessing.image_dataset_from_directory(\n",
    "    \"../../datasets/brain_tumors/\",\n",
    "    validation_split=0.2,\n",
    "    seed=100,\n",
    "    subset=\"training\",\n",
    "    image_size=(256, 256),\n",
    "    batch_size=32\n",
    ")\n",
    "validation = tf.keras.preprocessing.image_dataset_from_directory(\n",
    "    \"../../datasets/brain_tumors/\",\n",
    "    validation_split=0.2,\n",
    "    seed=100,\n",
    "    subset=\"validation\",\n",
    "    image_size=(256, 256),\n",
    "    batch_size=32\n",
    ")"
   ]
  },
  {
   "cell_type": "code",
   "execution_count": 7,
   "metadata": {},
   "outputs": [
    {
     "name": "stdout",
     "output_type": "stream",
     "text": [
      "['glioma_tumor', 'meningioma_tumor', 'normal', 'pituitary_tumor']\n"
     ]
    }
   ],
   "source": [
    "classes = train.class_names\n",
    "print(classes)"
   ]
  },
  {
   "cell_type": "code",
   "execution_count": 15,
   "metadata": {},
   "outputs": [],
   "source": [
    "model = keras.Sequential([\n",
    "    layers.Conv2D(64, (3, 3), activation=\"relu\", input_shape=(256, 256, 3)),\n",
    "    layers.MaxPooling2D(4, 4),\n",
    "    layers.Conv2D(64, (3, 3), activation=\"relu\"),\n",
    "    layers.MaxPooling2D(4, 4),\n",
    "    layers.Conv2D(64, (3, 3), activation=\"relu\"),\n",
    "    layers.Flatten(),\n",
    "    layers.Dense(128, activation=\"relu\"),\n",
    "    layers.Dense(4, activation='softmax')\n",
    "])"
   ]
  },
  {
   "cell_type": "code",
   "execution_count": 16,
   "metadata": {},
   "outputs": [],
   "source": [
    "model.compile(optimizer='adam', loss='sparse_categorical_crossentropy', metrics=['accuracy'])"
   ]
  },
  {
   "cell_type": "code",
   "execution_count": 18,
   "metadata": {},
   "outputs": [
    {
     "name": "stdout",
     "output_type": "stream",
     "text": [
      "Epoch 1/5\n"
     ]
    },
    {
     "name": "stdout",
     "output_type": "stream",
     "text": [
      "78/78 [==============================] - 125s 2s/step - loss: 1.0392 - accuracy: 0.5478 - val_loss: 0.9183 - val_accuracy: 0.6123\n",
      "Epoch 2/5\n",
      "78/78 [==============================] - 111s 1s/step - loss: 0.7885 - accuracy: 0.6750 - val_loss: 0.7691 - val_accuracy: 0.6834\n",
      "Epoch 3/5\n",
      "78/78 [==============================] - 112s 1s/step - loss: 0.5436 - accuracy: 0.7808 - val_loss: 0.6668 - val_accuracy: 0.7496\n",
      "Epoch 4/5\n",
      "78/78 [==============================] - 112s 1s/step - loss: 0.4148 - accuracy: 0.8417 - val_loss: 0.6655 - val_accuracy: 0.7690\n",
      "Epoch 5/5\n",
      "78/78 [==============================] - 112s 1s/step - loss: 0.3057 - accuracy: 0.8849 - val_loss: 0.7344 - val_accuracy: 0.7787\n"
     ]
    }
   ],
   "source": [
    "history = model.fit(train, epochs=5, validation_data=validation)\n",
    "#OBS: Demorando demais e acuracia abaixo de 30%"
   ]
  },
  {
   "cell_type": "code",
   "execution_count": 19,
   "metadata": {},
   "outputs": [
    {
     "name": "stdout",
     "output_type": "stream",
     "text": [
      "20/20 [==============================] - 7s 346ms/step - loss: 0.7344 - accuracy: 0.7787\n",
      "0.7343992590904236\n",
      "0.7786752581596375\n"
     ]
    }
   ],
   "source": [
    "score, acc = model.evaluate(validation)\n",
    "print(score)\n",
    "print(acc)"
   ]
  },
  {
   "cell_type": "code",
   "execution_count": 20,
   "metadata": {},
   "outputs": [
    {
     "data": {
      "text/html": [
       "<div>\n",
       "<style scoped>\n",
       "    .dataframe tbody tr th:only-of-type {\n",
       "        vertical-align: middle;\n",
       "    }\n",
       "\n",
       "    .dataframe tbody tr th {\n",
       "        vertical-align: top;\n",
       "    }\n",
       "\n",
       "    .dataframe thead th {\n",
       "        text-align: right;\n",
       "    }\n",
       "</style>\n",
       "<table border=\"1\" class=\"dataframe\">\n",
       "  <thead>\n",
       "    <tr style=\"text-align: right;\">\n",
       "      <th></th>\n",
       "      <th>loss</th>\n",
       "      <th>accuracy</th>\n",
       "      <th>val_loss</th>\n",
       "      <th>val_accuracy</th>\n",
       "    </tr>\n",
       "  </thead>\n",
       "  <tbody>\n",
       "    <tr>\n",
       "      <th>0</th>\n",
       "      <td>1.039239</td>\n",
       "      <td>0.547840</td>\n",
       "      <td>0.918332</td>\n",
       "      <td>0.612278</td>\n",
       "    </tr>\n",
       "    <tr>\n",
       "      <th>1</th>\n",
       "      <td>0.788536</td>\n",
       "      <td>0.675010</td>\n",
       "      <td>0.769107</td>\n",
       "      <td>0.683360</td>\n",
       "    </tr>\n",
       "    <tr>\n",
       "      <th>2</th>\n",
       "      <td>0.543613</td>\n",
       "      <td>0.780783</td>\n",
       "      <td>0.666839</td>\n",
       "      <td>0.749596</td>\n",
       "    </tr>\n",
       "    <tr>\n",
       "      <th>3</th>\n",
       "      <td>0.414790</td>\n",
       "      <td>0.841744</td>\n",
       "      <td>0.665525</td>\n",
       "      <td>0.768982</td>\n",
       "    </tr>\n",
       "    <tr>\n",
       "      <th>4</th>\n",
       "      <td>0.305700</td>\n",
       "      <td>0.884941</td>\n",
       "      <td>0.734399</td>\n",
       "      <td>0.778675</td>\n",
       "    </tr>\n",
       "  </tbody>\n",
       "</table>\n",
       "</div>"
      ],
      "text/plain": [
       "       loss  accuracy  val_loss  val_accuracy\n",
       "0  1.039239  0.547840  0.918332      0.612278\n",
       "1  0.788536  0.675010  0.769107      0.683360\n",
       "2  0.543613  0.780783  0.666839      0.749596\n",
       "3  0.414790  0.841744  0.665525      0.768982\n",
       "4  0.305700  0.884941  0.734399      0.778675"
      ]
     },
     "execution_count": 20,
     "metadata": {},
     "output_type": "execute_result"
    }
   ],
   "source": [
    "hist = pd.DataFrame(history.history)\n",
    "hist"
   ]
  },
  {
   "cell_type": "code",
   "execution_count": 22,
   "metadata": {},
   "outputs": [
    {
     "name": "stdout",
     "output_type": "stream",
     "text": [
      "20/20 [==============================] - 9s 438ms/step\n"
     ]
    },
    {
     "data": {
      "text/plain": [
       "array([[2.55664252e-02, 9.26200151e-01, 1.32110505e-03, 4.69122417e-02],\n",
       "       [8.63975671e-04, 1.27570909e-02, 2.82284964e-05, 9.86350715e-01],\n",
       "       [5.24219777e-03, 1.71700809e-02, 9.77565408e-01, 2.23134139e-05],\n",
       "       ...,\n",
       "       [2.59727496e-03, 5.97325899e-03, 9.91429389e-01, 1.14228484e-07],\n",
       "       [1.61685869e-02, 1.85702574e-02, 9.09438431e-01, 5.58227636e-02],\n",
       "       [3.91365821e-03, 9.96048391e-01, 2.38393623e-05, 1.41828014e-05]],\n",
       "      dtype=float32)"
      ]
     },
     "execution_count": 22,
     "metadata": {},
     "output_type": "execute_result"
    }
   ],
   "source": []
  },
  {
   "cell_type": "code",
   "execution_count": null,
   "metadata": {},
   "outputs": [],
   "source": []
  }
 ],
 "metadata": {
  "kernelspec": {
   "display_name": "Python 3",
   "language": "python",
   "name": "python3"
  },
  "language_info": {
   "codemirror_mode": {
    "name": "ipython",
    "version": 3
   },
   "file_extension": ".py",
   "mimetype": "text/x-python",
   "name": "python",
   "nbconvert_exporter": "python",
   "pygments_lexer": "ipython3",
   "version": "3.11.4"
  }
 },
 "nbformat": 4,
 "nbformat_minor": 2
}
