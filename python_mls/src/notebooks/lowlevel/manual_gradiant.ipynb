{
 "cells": [
  {
   "cell_type": "code",
   "execution_count": 1,
   "metadata": {},
   "outputs": [],
   "source": [
    "import numpy as np\n",
    "import matplotlib.pyplot as plt\n",
    "from graphviz import Digraph\n",
    "import math"
   ]
  },
  {
   "cell_type": "code",
   "execution_count": 2,
   "metadata": {},
   "outputs": [],
   "source": [
    "def f(x):\n",
    "    return x*x"
   ]
  },
  {
   "cell_type": "code",
   "execution_count": 3,
   "metadata": {},
   "outputs": [],
   "source": [
    "domain = np.arange(-10, 10, 0.01)\n",
    "image = f(domain)"
   ]
  },
  {
   "cell_type": "code",
   "execution_count": 4,
   "metadata": {},
   "outputs": [
    {
     "data": {
      "image/png": "[encoded data removed]",
      "text/plain": [
       "<Figure size 640x480 with 1 Axes>"
      ]
     },
     "metadata": {},
     "output_type": "display_data"
    }
   ],
   "source": [
    "plt.plot(domain, image, color='blue')\n",
    "plt.xlabel(\"abcissa\")\n",
    "plt.ylabel(\"ordenada\")\n",
    "plt.show()"
   ]
  },
  {
   "cell_type": "code",
   "execution_count": 6,
   "metadata": {},
   "outputs": [],
   "source": [
    "def trace(root):\n",
    "    nodes, edges = set(), set()\n",
    "    def build(v):\n",
    "        if v not in nodes:\n",
    "            nodes.add(v)\n",
    "            for child in v._prev:\n",
    "                edges.add((child, v))\n",
    "                build(child)\n",
    "    build(root)\n",
    "    return nodes, edges\n",
    "\n",
    "def draw_dot(root):\n",
    "    dot = Digraph(format='svg', graph_attr={'rankdir': 'LR'})\n",
    "    \n",
    "    nodes, edges = trace(root)\n",
    "    for node in nodes:\n",
    "        uid = str(id(node))\n",
    "        dot.node(name=uid, label=f\"{node.label} | data {node.data:.2f} | grad {node.grad:.2f}\", shape='record')\n",
    "        if node._op:\n",
    "            dot.node(name=uid+node._op, label=node._op)\n",
    "            dot.edge(uid+node._op, uid)\n",
    "        \n",
    "    for edge1, edge2 in edges:\n",
    "        dot.edge(str(id(edge1)), str(id(edge2))+edge2._op)\n",
    "\n",
    "    return dot"
   ]
  },
  {
   "cell_type": "code",
   "execution_count": 191,
   "metadata": {},
   "outputs": [],
   "source": [
    "class ValueObj:\n",
    "    def __init__(self, data, _children=(), _op='') -> None:\n",
    "        self.data = data\n",
    "        self.grad = 0.0\n",
    "        self._backward = lambda: None\n",
    "        self._prev = set(_children)\n",
    "        self._op = _op\n",
    "    \n",
    "    def __repr__(self) -> str:\n",
    "        return f\"Data value: {self.data} | Grad: {self.grad}\"\n",
    "    \n",
    "    def __add__(self, other) -> \"ValueObj\":\n",
    "        output = ValueObj(self.data + other.data, (self, other), 'add')\n",
    "        def _backward():\n",
    "            self.grad += 1.0 * output.grad\n",
    "            other.grad += 1.0 * output.grad\n",
    "        output._backward = _backward\n",
    "        return output\n",
    "    \n",
    "    def __mul__(self, other) -> \"ValueObj\":\n",
    "       output = ValueObj(other.data * self.data, (self, other), 'multiplying')\n",
    "       def _backward():\n",
    "           self.grad += other.data * output.grad\n",
    "           other.grad += self.data * output.grad\n",
    "       output._backward = _backward\n",
    "       return output\n",
    "\n",
    "    def tanh(self) -> \"ValueObj\":\n",
    "        output = ValueObj(math.tanh(self.data), (self,), _op=\"tanh\")\n",
    "        def _backward():\n",
    "            self.grad = (1 - math.pow(math.tanh(self.data), 2)) * output.grad\n",
    "        output._backward = _backward\n",
    "        return output"
   ]
  },
  {
   "cell_type": "code",
   "execution_count": 196,
   "metadata": {},
   "outputs": [
    {
     "data": {
      "text/plain": [
       "Data value: 0.9999999997323363 | Grad: 0.0"
      ]
     },
     "execution_count": 196,
     "metadata": {},
     "output_type": "execute_result"
    }
   ],
   "source": [
    "input1 = ValueObj(2.223)\n",
    "input2 = ValueObj(-3.957)\n",
    "\n",
    "weight1 = ValueObj(0.574)\n",
    "weight2 = ValueObj(0.8112)\n",
    "\n",
    "bias1 = ValueObj(5.552)\n",
    "\n",
    "hidden1 = (input1*weight1) + (input2*weight2) + bias1\n",
    "hidden2 = (input1*weight1) + (input2*weight2) + bias1\n",
    "\n",
    "weight3 = ValueObj(0.661)\n",
    "weight4 = ValueObj(1.928)\n",
    "\n",
    "bias2 = ValueObj(2.0)\n",
    "\n",
    "sumTotal = (hidden1*weight3) + (hidden2*weight4) + bias2\n",
    "output = sumTotal.tanh()\n",
    "output"
   ]
  },
  {
   "cell_type": "code",
   "execution_count": 199,
   "metadata": {},
   "outputs": [
    {
     "name": "stdout",
     "output_type": "stream",
     "text": [
      "Data value: 0.9999999997323363 | Grad: 1.0\n",
      "Data value: 11.367218440399999 | Grad: 5.35327338013758e-10\n",
      "Data value: 2.0 | Grad: 1.070654676027516e-09\n",
      "Data value: 3.6180835999999994 | Grad: 2.8308109634167524e-09\n",
      "Data value: 3.6180835999999994 | Grad: 4.128444430762102e-09\n",
      "Data value: 0.661 | Grad: 1.549487249839387e-08\n",
      "Data value: 1.928 | Grad: 7.747436249196936e-09\n",
      "Data value: 5.552 | Grad: 6.9592553941788546e-09\n",
      "Data value: 2.223 | Grad: 6.364339699516108e-09\n",
      "Data value: -3.957 | Grad: 1.798868419598421e-08\n",
      "Data value: 0.574 | Grad: 2.464795671084374e-08\n",
      "Data value: 0.8112 | Grad: -8.774805641458272e-08\n"
     ]
    }
   ],
   "source": [
    "print(output)\n",
    "print(sumTotal)\n",
    "print(bias2)\n",
    "print(hidden1)\n",
    "print(hidden2)\n",
    "print(weight3)\n",
    "print(weight4)\n",
    "print(bias1)\n",
    "print(input1)\n",
    "print(input2)\n",
    "print(weight1)\n",
    "print(weight2)"
   ]
  },
  {
   "cell_type": "code",
   "execution_count": 198,
   "metadata": {},
   "outputs": [],
   "source": [
    "backprop(output)"
   ]
  },
  {
   "cell_type": "code",
   "execution_count": 183,
   "metadata": {},
   "outputs": [],
   "source": [
    "def backprop(output: ValueObj):\n",
    "    topo = list()\n",
    "    visited = set()\n",
    "    def build_topolofy(v):\n",
    "        if v not in visited:\n",
    "            visited.add(output)\n",
    "            for child in v._prev:\n",
    "                build_topolofy(child)\n",
    "                topo.append(v)\n",
    "\n",
    "    build_topolofy(output)\n",
    "\n",
    "    output.grad = 1.0\n",
    "    for node in reversed(topo):\n",
    "        node._backward()"
   ]
  }
 ],
 "metadata": {
  "kernelspec": {
   "display_name": "base",
   "language": "python",
   "name": "python3"
  },
  "language_info": {
   "codemirror_mode": {
    "name": "ipython",
    "version": 3
   },
   "file_extension": ".py",
   "mimetype": "text/x-python",
   "name": "python",
   "nbconvert_exporter": "python",
   "pygments_lexer": "ipython3",
   "version": "3.11.4"
  }
 },
 "nbformat": 4,
 "nbformat_minor": 2
}
