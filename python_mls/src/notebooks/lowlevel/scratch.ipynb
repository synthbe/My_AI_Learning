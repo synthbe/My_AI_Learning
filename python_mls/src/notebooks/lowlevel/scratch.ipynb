{
 "cells": [
  {
   "cell_type": "code",
   "execution_count": 1,
   "metadata": {},
   "outputs": [],
   "source": [
    "import numpy as np\n",
    "import math"
   ]
  },
  {
   "cell_type": "code",
   "execution_count": 13,
   "metadata": {},
   "outputs": [],
   "source": [
    "def define_architeture(*args: int) -> np.array:\n",
    "    layers = np.empty(len(args), dtype=object)\n",
    "    for i in range(len(args)):\n",
    "        layers[i] = np.random.rand(args[i], 1) -0.5\n",
    "    return layers"
   ]
  },
  {
   "cell_type": "code",
   "execution_count": 21,
   "metadata": {},
   "outputs": [],
   "source": [
    "neural_net = define_architeture(10, 32, 32, 2)\n",
    "bias = define_architeture(10, 32, 32, 2)\n",
    "bias *= 5"
   ]
  },
  {
   "cell_type": "code",
   "execution_count": 4,
   "metadata": {},
   "outputs": [],
   "source": [
    "def Relu(x):\n",
    "    return np.maximum(0, x)\n",
    "\n",
    "def derivRelu(x):\n",
    "    return x > 0\n",
    "\n",
    "def softMax(x):\n",
    "    e = np.exp(x)\n",
    "    return e / sum(e)"
   ]
  },
  {
   "cell_type": "code",
   "execution_count": 5,
   "metadata": {},
   "outputs": [],
   "source": [
    "testInput = np.random.random(size=(10, 1)) * 100"
   ]
  },
  {
   "cell_type": "code",
   "execution_count": 6,
   "metadata": {},
   "outputs": [],
   "source": [
    "def feedFoward(inputs: np.array, neural_net: np.array, bias: np.array) -> np.array:\n",
    "    if inputs.shape != neural_net[0].shape:\n",
    "        print(\"Invalide shape\")\n",
    "        return\n",
    "    inputLayer = (inputs*neural_net[0]) + bias[0]\n",
    "    previusLayer = inputLayer\n",
    "    for hiddenLayers, hiddenBias in zip(neural_net[1:-1], bias[1:-1]):\n",
    "        currentLayer = Relu(previusLayer)\n",
    "        currentLayer = (currentLayer*hiddenLayers) + hiddenBias\n",
    "        previusLayer = currentLayer\n",
    "    outputLayer = softMax(previusLayer)\n",
    "    return outputLayer"
   ]
  },
  {
   "cell_type": "code",
   "execution_count": 22,
   "metadata": {},
   "outputs": [],
   "source": [
    "def feedFoward(inputs: np.array, neural_net: np.array, bias: np.array) -> np.array:\n",
    "    if inputs.shape != neural_net[0].shape:\n",
    "        return \"Invalide shape\"\n",
    "    else:\n",
    "        currentLayer = np.zeros(len(inputs))\n",
    "        for i in range(len(inputs)):\n",
    "            for j in range(len(inputs)):\n",
    "                currentLayer[i] += (inputs[i]*neural_net[0][i]) + bias[0][i]\n",
    "\n",
    "        previusLayer = currentLayer\n",
    "        return currentLayer"
   ]
  },
  {
   "cell_type": "code",
   "execution_count": 25,
   "metadata": {},
   "outputs": [
    {
     "data": {
      "text/plain": [
       "array([-148.53180814, -373.17547056, -202.08579651,  -76.47729082,\n",
       "       -129.71654946,   19.53646442, -314.65523563,  137.85054546,\n",
       "        410.27214661,   88.21978498])"
      ]
     },
     "execution_count": 25,
     "metadata": {},
     "output_type": "execute_result"
    }
   ],
   "source": [
    "feedFoward(testInput, neural_net, bias)"
   ]
  },
  {
   "cell_type": "code",
   "execution_count": null,
   "metadata": {},
   "outputs": [],
   "source": []
  }
 ],
 "metadata": {
  "kernelspec": {
   "display_name": "base",
   "language": "python",
   "name": "python3"
  },
  "language_info": {
   "codemirror_mode": {
    "name": "ipython",
    "version": 3
   },
   "file_extension": ".py",
   "mimetype": "text/x-python",
   "name": "python",
   "nbconvert_exporter": "python",
   "pygments_lexer": "ipython3",
   "version": "3.11.4"
  }
 },
 "nbformat": 4,
 "nbformat_minor": 2
}
